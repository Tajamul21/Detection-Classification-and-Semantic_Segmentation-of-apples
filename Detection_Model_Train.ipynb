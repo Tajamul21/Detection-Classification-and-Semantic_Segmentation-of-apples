{
  "nbformat": 4,
  "nbformat_minor": 0,
  "metadata": {
    "colab": {
      "name": "Detection_Model_Train.ipynb",
      "provenance": [],
      "collapsed_sections": []
    },
    "kernelspec": {
      "name": "python3",
      "display_name": "Python 3"
    },
    "accelerator": "GPU"
  },
  "cells": [
    {
      "cell_type": "code",
      "metadata": {
        "id": "WJVN9cJFBuXM"
      },
      "source": [
        "import tensorflow"
      ],
      "execution_count": null,
      "outputs": []
    },
    {
      "cell_type": "code",
      "metadata": {
        "id": "t4af7IosCA42"
      },
      "source": [
        "from matplotlib import pyplot as plt"
      ],
      "execution_count": null,
      "outputs": []
    },
    {
      "cell_type": "code",
      "metadata": {
        "id": "21UBobgACGh4"
      },
      "source": [
        "import os"
      ],
      "execution_count": null,
      "outputs": []
    },
    {
      "cell_type": "code",
      "metadata": {
        "id": "WmpD25CyDskQ"
      },
      "source": [
        "import numpy"
      ],
      "execution_count": null,
      "outputs": []
    },
    {
      "cell_type": "code",
      "metadata": {
        "id": "miqxVy8pEifU"
      },
      "source": [
        "# Code to read csv file into colaboratory:\r\n",
        "!pip install -U -q PyDrive\r\n",
        "from pydrive.auth import GoogleAuth\r\n",
        "from pydrive.drive import GoogleDrive\r\n",
        "from google.colab import auth\r\n",
        "from oauth2client.client import GoogleCredentials"
      ],
      "execution_count": null,
      "outputs": []
    },
    {
      "cell_type": "code",
      "metadata": {
        "id": "sDOtuUEtopZw"
      },
      "source": [
        "auth.authenticate_user()\r\n",
        "gauth = GoogleAuth()\r\n",
        "gauth.credentials = GoogleCredentials.get_application_default()\r\n",
        "drive = GoogleDrive(gauth)"
      ],
      "execution_count": null,
      "outputs": []
    },
    {
      "cell_type": "code",
      "metadata": {
        "colab": {
          "base_uri": "https://localhost:8080/",
          "height": 748
        },
        "id": "JeZZF_pHpQxE",
        "outputId": "855166cc-a5ef-4942-e8bc-d7d802db8bce"
      },
      "source": [
        "!pip3 install imageai --upgrade"
      ],
      "execution_count": null,
      "outputs": [
        {
          "output_type": "stream",
          "text": [
            "Collecting imageai\n",
            "\u001b[?25l  Downloading https://files.pythonhosted.org/packages/73/44/3d5d8ef572888025666eec284e85f9243faf06ca8c12085dcff1ca9754ed/imageai-2.1.6-py3-none-any.whl (160kB)\n",
            "\r\u001b[K     |██                              | 10kB 28.9MB/s eta 0:00:01\r\u001b[K     |████                            | 20kB 30.5MB/s eta 0:00:01\r\u001b[K     |██████                          | 30kB 21.8MB/s eta 0:00:01\r\u001b[K     |████████▏                       | 40kB 20.4MB/s eta 0:00:01\r\u001b[K     |██████████▏                     | 51kB 22.7MB/s eta 0:00:01\r\u001b[K     |████████████▏                   | 61kB 16.3MB/s eta 0:00:01\r\u001b[K     |██████████████▎                 | 71kB 16.2MB/s eta 0:00:01\r\u001b[K     |████████████████▎               | 81kB 15.5MB/s eta 0:00:01\r\u001b[K     |██████████████████▎             | 92kB 15.5MB/s eta 0:00:01\r\u001b[K     |████████████████████▍           | 102kB 16.0MB/s eta 0:00:01\r\u001b[K     |██████████████████████▍         | 112kB 16.0MB/s eta 0:00:01\r\u001b[K     |████████████████████████▍       | 122kB 16.0MB/s eta 0:00:01\r\u001b[K     |██████████████████████████▌     | 133kB 16.0MB/s eta 0:00:01\r\u001b[K     |████████████████████████████▌   | 143kB 16.0MB/s eta 0:00:01\r\u001b[K     |██████████████████████████████▌ | 153kB 16.0MB/s eta 0:00:01\r\u001b[K     |████████████████████████████████| 163kB 16.0MB/s \n",
            "\u001b[?25hRequirement already satisfied, skipping upgrade: pillow==7.0.0 in /usr/local/lib/python3.6/dist-packages (from imageai) (7.0.0)\n",
            "Requirement already satisfied, skipping upgrade: scipy==1.4.1 in /usr/local/lib/python3.6/dist-packages (from imageai) (1.4.1)\n",
            "Requirement already satisfied, skipping upgrade: keras==2.4.3 in /usr/local/lib/python3.6/dist-packages (from imageai) (2.4.3)\n",
            "Collecting keras-resnet==0.2.0\n",
            "  Downloading https://files.pythonhosted.org/packages/76/d4/a35cbd07381139dda4db42c81b88c59254faac026109022727b45b31bcad/keras-resnet-0.2.0.tar.gz\n",
            "Requirement already satisfied, skipping upgrade: h5py==2.10.0 in /usr/local/lib/python3.6/dist-packages (from imageai) (2.10.0)\n",
            "Collecting numpy==1.19.3\n",
            "\u001b[?25l  Downloading https://files.pythonhosted.org/packages/0e/f7/a7d7e0de99a7b43bd95aaddcf29e65b5a185ca389dd1329a53cc986edc38/numpy-1.19.3-cp36-cp36m-manylinux2010_x86_64.whl (14.9MB)\n",
            "\u001b[K     |████████████████████████████████| 14.9MB 208kB/s \n",
            "\u001b[?25hRequirement already satisfied, skipping upgrade: opencv-python in /usr/local/lib/python3.6/dist-packages (from imageai) (4.1.2.30)\n",
            "Collecting matplotlib==3.3.2\n",
            "\u001b[?25l  Downloading https://files.pythonhosted.org/packages/cd/d6/8c4dfb23151d5a494c66ebbfdb5c8c433b44ec07fae52da5939fcda0943f/matplotlib-3.3.2-cp36-cp36m-manylinux1_x86_64.whl (11.6MB)\n",
            "\u001b[K     |████████████████████████████████| 11.6MB 217kB/s \n",
            "\u001b[?25hRequirement already satisfied, skipping upgrade: pyyaml in /usr/local/lib/python3.6/dist-packages (from keras==2.4.3->imageai) (3.13)\n",
            "Requirement already satisfied, skipping upgrade: six in /usr/local/lib/python3.6/dist-packages (from h5py==2.10.0->imageai) (1.15.0)\n",
            "Requirement already satisfied, skipping upgrade: cycler>=0.10 in /usr/local/lib/python3.6/dist-packages (from matplotlib==3.3.2->imageai) (0.10.0)\n",
            "Requirement already satisfied, skipping upgrade: pyparsing!=2.0.4,!=2.1.2,!=2.1.6,>=2.0.3 in /usr/local/lib/python3.6/dist-packages (from matplotlib==3.3.2->imageai) (2.4.7)\n",
            "Requirement already satisfied, skipping upgrade: kiwisolver>=1.0.1 in /usr/local/lib/python3.6/dist-packages (from matplotlib==3.3.2->imageai) (1.3.1)\n",
            "Requirement already satisfied, skipping upgrade: certifi>=2020.06.20 in /usr/local/lib/python3.6/dist-packages (from matplotlib==3.3.2->imageai) (2020.12.5)\n",
            "Requirement already satisfied, skipping upgrade: python-dateutil>=2.1 in /usr/local/lib/python3.6/dist-packages (from matplotlib==3.3.2->imageai) (2.8.1)\n",
            "Building wheels for collected packages: keras-resnet\n",
            "  Building wheel for keras-resnet (setup.py) ... \u001b[?25l\u001b[?25hdone\n",
            "  Created wheel for keras-resnet: filename=keras_resnet-0.2.0-py2.py3-none-any.whl size=20486 sha256=cdc5d600d9da96a964cc8d133e9976dd149f6d85f4e00d2d5f4a618f61ca73e3\n",
            "  Stored in directory: /root/.cache/pip/wheels/5f/09/a5/497a30fd9ad9964e98a1254d1e164bcd1b8a5eda36197ecb3c\n",
            "Successfully built keras-resnet\n",
            "\u001b[31mERROR: datascience 0.10.6 has requirement folium==0.2.1, but you'll have folium 0.8.3 which is incompatible.\u001b[0m\n",
            "\u001b[31mERROR: albumentations 0.1.12 has requirement imgaug<0.2.7,>=0.2.5, but you'll have imgaug 0.2.9 which is incompatible.\u001b[0m\n",
            "Installing collected packages: keras-resnet, numpy, matplotlib, imageai\n",
            "  Found existing installation: numpy 1.19.5\n",
            "    Uninstalling numpy-1.19.5:\n",
            "      Successfully uninstalled numpy-1.19.5\n",
            "  Found existing installation: matplotlib 3.2.2\n",
            "    Uninstalling matplotlib-3.2.2:\n",
            "      Successfully uninstalled matplotlib-3.2.2\n",
            "Successfully installed imageai-2.1.6 keras-resnet-0.2.0 matplotlib-3.3.2 numpy-1.19.3\n"
          ],
          "name": "stdout"
        },
        {
          "output_type": "display_data",
          "data": {
            "application/vnd.colab-display-data+json": {
              "pip_warning": {
                "packages": [
                  "matplotlib",
                  "mpl_toolkits",
                  "numpy"
                ]
              }
            }
          },
          "metadata": {
            "tags": []
          }
        }
      ]
    },
    {
      "cell_type": "code",
      "metadata": {
        "id": "T2W3ofs2pkbm"
      },
      "source": [
        "import matplotlib"
      ],
      "execution_count": null,
      "outputs": []
    },
    {
      "cell_type": "code",
      "metadata": {
        "id": "6vQVCIxTpzOO"
      },
      "source": [
        "from imageai.Detection.Custom import DetectionModelTrainer"
      ],
      "execution_count": null,
      "outputs": []
    },
    {
      "cell_type": "code",
      "metadata": {
        "id": "vIWQk-Xbp3KY"
      },
      "source": [
        "trainer = DetectionModelTrainer()\r\n",
        "trainer.setModelTypeAsYOLOv3()"
      ],
      "execution_count": null,
      "outputs": []
    },
    {
      "cell_type": "code",
      "metadata": {
        "id": "Jr5c_ZQOp8GT"
      },
      "source": [
        "trainer.setDataDirectory(data_directory=\"apple_dataset\")"
      ],
      "execution_count": null,
      "outputs": []
    },
    {
      "cell_type": "code",
      "metadata": {
        "id": "7_Jo0oRjr_kL"
      },
      "source": [
        "trainer.setDataDirectory(data_directory=\"apple_dataset\")"
      ],
      "execution_count": null,
      "outputs": []
    },
    {
      "cell_type": "code",
      "metadata": {
        "id": "u4Pr899oxbK8"
      },
      "source": [
        "from google.colab import drive"
      ],
      "execution_count": null,
      "outputs": []
    },
    {
      "cell_type": "code",
      "metadata": {
        "id": "3KFFegebyEfx"
      },
      "source": [
        "trainer.setDataDirectory(data_directory=\"apple_dataset\")"
      ],
      "execution_count": null,
      "outputs": []
    },
    {
      "cell_type": "code",
      "metadata": {
        "id": "xx8EdJkey_jQ"
      },
      "source": [
        "trainer.setDataDirectory(data_directory=\"content/drive/My Drive/Colab Notebooks/apple_dataset/train/images\")"
      ],
      "execution_count": null,
      "outputs": []
    },
    {
      "cell_type": "code",
      "metadata": {
        "id": "FXuOO5_p1GQY"
      },
      "source": [
        "trainer.setDataDirectory(data_directory=\"content/drive/My Drive/Colab Notebooks/apple_dataset\")"
      ],
      "execution_count": null,
      "outputs": []
    },
    {
      "cell_type": "code",
      "metadata": {
        "id": "2pO883PY1NqM"
      },
      "source": [
        "import os"
      ],
      "execution_count": null,
      "outputs": []
    },
    {
      "cell_type": "code",
      "metadata": {
        "id": "Q8wostfP1jwI"
      },
      "source": [
        "trainer.setDataDirectory(data_directory=\"apple_dataset\")"
      ],
      "execution_count": null,
      "outputs": []
    },
    {
      "cell_type": "code",
      "metadata": {
        "id": "tDljgtO71yWA"
      },
      "source": [
        "trainer.setDataDirectory(data_directory=\"apple_dataset\")"
      ],
      "execution_count": null,
      "outputs": []
    },
    {
      "cell_type": "code",
      "metadata": {
        "id": "4nhHxiH02RQK",
        "colab": {
          "base_uri": "https://localhost:8080/"
        },
        "outputId": "545d8ae4-3115-492f-9ae4-690f74fc0697"
      },
      "source": [
        "trainer.setTrainConfig(object_names_array=[\"apple\", \"damaged_apple\"], batch_size=8, num_experiments=50, train_from_pretrained_model=\"pretrained-yolov3.h5\")"
      ],
      "execution_count": null,
      "outputs": [
        {
          "output_type": "stream",
          "text": [
            "Generating anchor boxes for training images and annotation...\n",
            "Average IOU for 9 anchors: 0.79\n",
            "Anchor Boxes generated.\n",
            "Detection configuration saved in  apple_dataset/json/detection_config.json\n"
          ],
          "name": "stdout"
        }
      ]
    },
    {
      "cell_type": "code",
      "metadata": {
        "colab": {
          "base_uri": "https://localhost:8080/"
        },
        "id": "ks9MIThm6Ttz",
        "outputId": "7235cd82-2a4a-422f-c0bf-02ab5599f2dd"
      },
      "source": [
        "trainer.setTrainConfig(object_names_array=[\"apple\", \"damaged_apple\"], batch_size=8, num_experiments=50, train_from_pretrained_model=\"/content/drive/MyDrive/apple_dataset/pretrained-yolov3.h5\")\r\n",
        "trainer.trainModel()"
      ],
      "execution_count": null,
      "outputs": [
        {
          "output_type": "stream",
          "text": [
            "Generating anchor boxes for training images and annotation...\n",
            "Average IOU for 9 anchors: 0.78\n",
            "Anchor Boxes generated.\n",
            "Detection configuration saved in  apple_dataset/json/detection_config.json\n",
            "Evaluating over 150 samples taken from apple_dataset/validation\n",
            "Training over 563 samples  given at apple_dataset/train\n",
            "Training on: \t['apple', 'damaged_apple']\n",
            "Training with Batch Size:  8\n",
            "Number of Training Samples:  563\n",
            "Number of Validation Samples:  150\n",
            "Number of Experiments:  50\n",
            "Training with transfer learning from pretrained Model\n",
            "WARNING:tensorflow:`period` argument is deprecated. Please use `save_freq` to specify the frequency in number of batches seen.\n",
            "WARNING:tensorflow:`epsilon` argument is deprecated and will be removed, use `min_delta` instead.\n"
          ],
          "name": "stdout"
        },
        {
          "output_type": "stream",
          "text": [
            "/usr/local/lib/python3.6/dist-packages/tensorflow/python/keras/engine/training.py:1844: UserWarning: `Model.fit_generator` is deprecated and will be removed in a future version. Please use `Model.fit`, which supports generators.\n",
            "  warnings.warn('`Model.fit_generator` is deprecated and '\n"
          ],
          "name": "stderr"
        },
        {
          "output_type": "stream",
          "text": [
            "WARNING:tensorflow:Model failed to serialize as JSON. Ignoring... Layer YoloLayer has arguments in `__init__` and therefore must override `get_config`.\n"
          ],
          "name": "stdout"
        },
        {
          "output_type": "stream",
          "text": [
            "/usr/local/lib/python3.6/dist-packages/tensorflow/python/data/ops/dataset_ops.py:3504: UserWarning: Even though the tf.config.experimental_run_functions_eagerly option is set, this option does not apply to tf.data functions. tf.data functions are still traced and executed as graphs.\n",
            "  \"Even though the tf.config.experimental_run_functions_eagerly \"\n"
          ],
          "name": "stderr"
        },
        {
          "output_type": "stream",
          "text": [
            "Epoch 1/50\n",
            "568/568 [==============================] - 484s 831ms/step - loss: 96.4445 - yolo_layer_6_loss: 12.4051 - yolo_layer_7_loss: 27.1762 - yolo_layer_8_loss: 45.3178 - val_loss: 53.8468 - val_yolo_layer_6_loss: 8.0982 - val_yolo_layer_7_loss: 13.7799 - val_yolo_layer_8_loss: 20.8321\n",
            "Epoch 2/50\n",
            "568/568 [==============================] - 429s 754ms/step - loss: 48.3179 - yolo_layer_6_loss: 6.1802 - yolo_layer_7_loss: 11.8629 - yolo_layer_8_loss: 19.3310 - val_loss: 46.9162 - val_yolo_layer_6_loss: 8.9014 - val_yolo_layer_7_loss: 10.2947 - val_yolo_layer_8_loss: 17.2973\n",
            "Epoch 3/50\n",
            "568/568 [==============================] - 437s 768ms/step - loss: 41.3287 - yolo_layer_6_loss: 4.7915 - yolo_layer_7_loss: 9.7666 - yolo_layer_8_loss: 16.5045 - val_loss: 38.9622 - val_yolo_layer_6_loss: 4.6144 - val_yolo_layer_7_loss: 8.7352 - val_yolo_layer_8_loss: 15.7898\n",
            "Epoch 4/50\n",
            "568/568 [==============================] - 432s 760ms/step - loss: 37.9825 - yolo_layer_6_loss: 4.4229 - yolo_layer_7_loss: 8.8794 - yolo_layer_8_loss: 14.9790 - val_loss: 35.8438 - val_yolo_layer_6_loss: 4.3423 - val_yolo_layer_7_loss: 8.6879 - val_yolo_layer_8_loss: 13.4722\n",
            "Epoch 5/50\n",
            "568/568 [==============================] - 438s 771ms/step - loss: 35.4611 - yolo_layer_6_loss: 4.0843 - yolo_layer_7_loss: 8.0527 - yolo_layer_8_loss: 14.1057 - val_loss: 35.4190 - val_yolo_layer_6_loss: 4.0830 - val_yolo_layer_7_loss: 8.3731 - val_yolo_layer_8_loss: 14.0697\n",
            "Epoch 6/50\n",
            "568/568 [==============================] - 449s 789ms/step - loss: 34.7196 - yolo_layer_6_loss: 4.4701 - yolo_layer_7_loss: 8.0361 - yolo_layer_8_loss: 13.4007 - val_loss: 34.5999 - val_yolo_layer_6_loss: 4.1707 - val_yolo_layer_7_loss: 8.7951 - val_yolo_layer_8_loss: 13.0761\n",
            "Epoch 7/50\n",
            "568/568 [==============================] - 436s 766ms/step - loss: 32.3521 - yolo_layer_6_loss: 3.6347 - yolo_layer_7_loss: 7.3636 - yolo_layer_8_loss: 12.8731 - val_loss: 31.6201 - val_yolo_layer_6_loss: 3.3517 - val_yolo_layer_7_loss: 7.2851 - val_yolo_layer_8_loss: 12.7107\n",
            "Epoch 8/50\n",
            "568/568 [==============================] - 429s 754ms/step - loss: 31.0315 - yolo_layer_6_loss: 3.3714 - yolo_layer_7_loss: 7.0110 - yolo_layer_8_loss: 12.4465 - val_loss: 32.5682 - val_yolo_layer_6_loss: 3.6591 - val_yolo_layer_7_loss: 7.5340 - val_yolo_layer_8_loss: 13.3782\n",
            "Epoch 9/50\n",
            "568/568 [==============================] - 456s 801ms/step - loss: 30.8354 - yolo_layer_6_loss: 3.5585 - yolo_layer_7_loss: 7.1482 - yolo_layer_8_loss: 12.1896 - val_loss: 31.3695 - val_yolo_layer_6_loss: 3.1747 - val_yolo_layer_7_loss: 7.6818 - val_yolo_layer_8_loss: 12.7134\n",
            "Epoch 10/50\n",
            "568/568 [==============================] - 428s 754ms/step - loss: 29.4583 - yolo_layer_6_loss: 3.0891 - yolo_layer_7_loss: 6.8325 - yolo_layer_8_loss: 11.7913 - val_loss: 31.2138 - val_yolo_layer_6_loss: 3.5907 - val_yolo_layer_7_loss: 7.5423 - val_yolo_layer_8_loss: 12.4900\n",
            "Epoch 11/50\n",
            "568/568 [==============================] - 417s 733ms/step - loss: 28.9179 - yolo_layer_6_loss: 3.1414 - yolo_layer_7_loss: 6.6664 - yolo_layer_8_loss: 11.5672 - val_loss: 30.9514 - val_yolo_layer_6_loss: 3.2362 - val_yolo_layer_7_loss: 7.2632 - val_yolo_layer_8_loss: 13.0566\n",
            "Epoch 12/50\n",
            "568/568 [==============================] - 425s 747ms/step - loss: 28.0468 - yolo_layer_6_loss: 2.7524 - yolo_layer_7_loss: 6.1387 - yolo_layer_8_loss: 11.8096 - val_loss: 30.8094 - val_yolo_layer_6_loss: 3.6217 - val_yolo_layer_7_loss: 7.6792 - val_yolo_layer_8_loss: 12.2848\n",
            "Epoch 13/50\n",
            "568/568 [==============================] - 443s 779ms/step - loss: 28.1170 - yolo_layer_6_loss: 3.1221 - yolo_layer_7_loss: 6.5770 - yolo_layer_8_loss: 11.2296 - val_loss: 30.5339 - val_yolo_layer_6_loss: 4.0738 - val_yolo_layer_7_loss: 7.6004 - val_yolo_layer_8_loss: 11.7725\n",
            "Epoch 14/50\n",
            "568/568 [==============================] - 448s 788ms/step - loss: 27.7757 - yolo_layer_6_loss: 3.2223 - yolo_layer_7_loss: 6.5355 - yolo_layer_8_loss: 10.9608 - val_loss: 29.2257 - val_yolo_layer_6_loss: 3.5636 - val_yolo_layer_7_loss: 7.0335 - val_yolo_layer_8_loss: 11.6625\n",
            "Epoch 15/50\n",
            "568/568 [==============================] - 429s 754ms/step - loss: 26.8825 - yolo_layer_6_loss: 2.8612 - yolo_layer_7_loss: 6.1495 - yolo_layer_8_loss: 10.9340 - val_loss: 28.8534 - val_yolo_layer_6_loss: 2.9591 - val_yolo_layer_7_loss: 7.1290 - val_yolo_layer_8_loss: 11.9160\n",
            "Epoch 16/50\n",
            "568/568 [==============================] - 443s 780ms/step - loss: 26.7478 - yolo_layer_6_loss: 2.9604 - yolo_layer_7_loss: 6.2463 - yolo_layer_8_loss: 10.7210 - val_loss: 28.7832 - val_yolo_layer_6_loss: 2.8003 - val_yolo_layer_7_loss: 6.9355 - val_yolo_layer_8_loss: 12.3022\n",
            "Epoch 17/50\n",
            "568/568 [==============================] - 428s 752ms/step - loss: 26.3875 - yolo_layer_6_loss: 2.7697 - yolo_layer_7_loss: 5.8839 - yolo_layer_8_loss: 11.0129 - val_loss: 29.2415 - val_yolo_layer_6_loss: 3.3277 - val_yolo_layer_7_loss: 7.6607 - val_yolo_layer_8_loss: 11.6005\n",
            "Epoch 18/50\n",
            "568/568 [==============================] - 438s 770ms/step - loss: 25.7296 - yolo_layer_6_loss: 2.6576 - yolo_layer_7_loss: 5.8704 - yolo_layer_8_loss: 10.5704 - val_loss: 28.5928 - val_yolo_layer_6_loss: 3.3597 - val_yolo_layer_7_loss: 6.8228 - val_yolo_layer_8_loss: 11.8405\n",
            "Epoch 19/50\n",
            "568/568 [==============================] - 438s 771ms/step - loss: 25.6654 - yolo_layer_6_loss: 2.7234 - yolo_layer_7_loss: 5.9803 - yolo_layer_8_loss: 10.4109 - val_loss: 29.4123 - val_yolo_layer_6_loss: 3.1063 - val_yolo_layer_7_loss: 7.1504 - val_yolo_layer_8_loss: 12.6636\n",
            "Epoch 20/50\n",
            "568/568 [==============================] - 439s 773ms/step - loss: 26.0733 - yolo_layer_6_loss: 3.0053 - yolo_layer_7_loss: 6.0139 - yolo_layer_8_loss: 10.5783 - val_loss: 27.7904 - val_yolo_layer_6_loss: 3.0063 - val_yolo_layer_7_loss: 6.8793 - val_yolo_layer_8_loss: 11.4893\n",
            "Epoch 21/50\n",
            "568/568 [==============================] - 432s 759ms/step - loss: 25.2480 - yolo_layer_6_loss: 2.9692 - yolo_layer_7_loss: 5.8199 - yolo_layer_8_loss: 10.0596 - val_loss: 29.5974 - val_yolo_layer_6_loss: 3.5166 - val_yolo_layer_7_loss: 7.4945 - val_yolo_layer_8_loss: 12.2375\n",
            "Epoch 22/50\n",
            "568/568 [==============================] - 414s 729ms/step - loss: 24.0951 - yolo_layer_6_loss: 2.2020 - yolo_layer_7_loss: 5.2589 - yolo_layer_8_loss: 10.3078 - val_loss: 27.9036 - val_yolo_layer_6_loss: 3.1222 - val_yolo_layer_7_loss: 7.1180 - val_yolo_layer_8_loss: 11.4052\n",
            "Epoch 23/50\n",
            "568/568 [==============================] - 434s 764ms/step - loss: 25.0196 - yolo_layer_6_loss: 2.7373 - yolo_layer_7_loss: 5.8285 - yolo_layer_8_loss: 10.2129 - val_loss: 26.4215 - val_yolo_layer_6_loss: 2.4017 - val_yolo_layer_7_loss: 6.0472 - val_yolo_layer_8_loss: 11.7712\n",
            "Epoch 24/50\n",
            "568/568 [==============================] - 450s 792ms/step - loss: 24.6281 - yolo_layer_6_loss: 2.8656 - yolo_layer_7_loss: 5.9121 - yolo_layer_8_loss: 9.6597 - val_loss: 27.6107 - val_yolo_layer_6_loss: 2.8380 - val_yolo_layer_7_loss: 6.3919 - val_yolo_layer_8_loss: 12.2254\n",
            "Epoch 25/50\n",
            "568/568 [==============================] - 423s 743ms/step - loss: 23.0353 - yolo_layer_6_loss: 2.2977 - yolo_layer_7_loss: 5.0895 - yolo_layer_8_loss: 9.4966 - val_loss: 25.0482 - val_yolo_layer_6_loss: 2.1470 - val_yolo_layer_7_loss: 6.1122 - val_yolo_layer_8_loss: 10.6507\n",
            "Epoch 26/50\n",
            "568/568 [==============================] - 413s 727ms/step - loss: 21.3514 - yolo_layer_6_loss: 1.7201 - yolo_layer_7_loss: 4.5119 - yolo_layer_8_loss: 8.9857 - val_loss: 25.5063 - val_yolo_layer_6_loss: 2.3162 - val_yolo_layer_7_loss: 6.2596 - val_yolo_layer_8_loss: 10.8099\n",
            "Epoch 27/50\n",
            "568/568 [==============================] - 441s 776ms/step - loss: 21.6128 - yolo_layer_6_loss: 2.0305 - yolo_layer_7_loss: 4.8055 - yolo_layer_8_loss: 8.6600 - val_loss: 25.5708 - val_yolo_layer_6_loss: 2.3914 - val_yolo_layer_7_loss: 6.6242 - val_yolo_layer_8_loss: 10.4494\n",
            "Epoch 28/50\n",
            "568/568 [==============================] - 439s 772ms/step - loss: 21.5544 - yolo_layer_6_loss: 2.0092 - yolo_layer_7_loss: 4.8392 - yolo_layer_8_loss: 8.6036 - val_loss: 25.5909 - val_yolo_layer_6_loss: 2.6395 - val_yolo_layer_7_loss: 6.6140 - val_yolo_layer_8_loss: 10.2457\n",
            "Epoch 29/50\n",
            "568/568 [==============================] - 436s 766ms/step - loss: 20.9981 - yolo_layer_6_loss: 1.8283 - yolo_layer_7_loss: 4.5546 - yolo_layer_8_loss: 8.5239 - val_loss: 25.3387 - val_yolo_layer_6_loss: 2.5060 - val_yolo_layer_7_loss: 6.5302 - val_yolo_layer_8_loss: 10.2122\n",
            "Epoch 30/50\n",
            "568/568 [==============================] - 429s 754ms/step - loss: 20.8542 - yolo_layer_6_loss: 1.7514 - yolo_layer_7_loss: 4.5396 - yolo_layer_8_loss: 8.4733 - val_loss: 24.5056 - val_yolo_layer_6_loss: 2.1267 - val_yolo_layer_7_loss: 5.6298 - val_yolo_layer_8_loss: 10.6605\n",
            "Epoch 31/50\n",
            "568/568 [==============================] - 432s 760ms/step - loss: 20.8914 - yolo_layer_6_loss: 1.8030 - yolo_layer_7_loss: 4.6215 - yolo_layer_8_loss: 8.3785 - val_loss: 25.1306 - val_yolo_layer_6_loss: 2.2490 - val_yolo_layer_7_loss: 6.0460 - val_yolo_layer_8_loss: 10.7484\n",
            "Epoch 32/50\n",
            "568/568 [==============================] - 431s 758ms/step - loss: 20.4852 - yolo_layer_6_loss: 1.5497 - yolo_layer_7_loss: 4.2993 - yolo_layer_8_loss: 8.5493 - val_loss: 25.3224 - val_yolo_layer_6_loss: 2.5135 - val_yolo_layer_7_loss: 6.5570 - val_yolo_layer_8_loss: 10.1662\n",
            "Epoch 33/50\n",
            "568/568 [==============================] - 425s 748ms/step - loss: 20.7024 - yolo_layer_6_loss: 1.7004 - yolo_layer_7_loss: 4.4862 - yolo_layer_8_loss: 8.4306 - val_loss: 24.9450 - val_yolo_layer_6_loss: 2.1412 - val_yolo_layer_7_loss: 5.8640 - val_yolo_layer_8_loss: 10.8556\n",
            "Epoch 34/50\n",
            "568/568 [==============================] - 416s 732ms/step - loss: 20.3751 - yolo_layer_6_loss: 1.5584 - yolo_layer_7_loss: 4.3286 - yolo_layer_8_loss: 8.4044 - val_loss: 24.6259 - val_yolo_layer_6_loss: 1.9167 - val_yolo_layer_7_loss: 6.0206 - val_yolo_layer_8_loss: 10.6061\n",
            "Epoch 35/50\n",
            "568/568 [==============================] - 428s 753ms/step - loss: 21.0250 - yolo_layer_6_loss: 1.8737 - yolo_layer_7_loss: 4.5713 - yolo_layer_8_loss: 8.4977 - val_loss: 25.2699 - val_yolo_layer_6_loss: 2.4919 - val_yolo_layer_7_loss: 6.5268 - val_yolo_layer_8_loss: 10.1702\n",
            "Epoch 36/50\n",
            "568/568 [==============================] - 428s 754ms/step - loss: 20.8155 - yolo_layer_6_loss: 1.8273 - yolo_layer_7_loss: 4.5538 - yolo_layer_8_loss: 8.3538 - val_loss: 24.9468 - val_yolo_layer_6_loss: 2.2764 - val_yolo_layer_7_loss: 6.0748 - val_yolo_layer_8_loss: 10.5162\n",
            "Epoch 37/50\n",
            "568/568 [==============================] - 431s 758ms/step - loss: 20.6805 - yolo_layer_6_loss: 1.7622 - yolo_layer_7_loss: 4.3526 - yolo_layer_8_loss: 8.4863 - val_loss: 25.5458 - val_yolo_layer_6_loss: 2.4463 - val_yolo_layer_7_loss: 6.6729 - val_yolo_layer_8_loss: 10.3473\n",
            "Epoch 38/50\n",
            "568/568 [==============================] - 443s 779ms/step - loss: 20.8458 - yolo_layer_6_loss: 1.8387 - yolo_layer_7_loss: 4.5655 - yolo_layer_8_loss: 8.3624 - val_loss: 24.9783 - val_yolo_layer_6_loss: 2.2624 - val_yolo_layer_7_loss: 6.3692 - val_yolo_layer_8_loss: 10.2677\n",
            "Epoch 39/50\n",
            "568/568 [==============================] - 431s 758ms/step - loss: 20.4798 - yolo_layer_6_loss: 1.6370 - yolo_layer_7_loss: 4.4484 - yolo_layer_8_loss: 8.3154 - val_loss: 24.7613 - val_yolo_layer_6_loss: 2.1791 - val_yolo_layer_7_loss: 6.1708 - val_yolo_layer_8_loss: 10.3323\n",
            "Epoch 40/50\n",
            "568/568 [==============================] - 438s 771ms/step - loss: 20.6913 - yolo_layer_6_loss: 1.5412 - yolo_layer_7_loss: 4.3998 - yolo_layer_8_loss: 8.6713 - val_loss: 24.9573 - val_yolo_layer_6_loss: 2.3428 - val_yolo_layer_7_loss: 6.3056 - val_yolo_layer_8_loss: 10.2298\n",
            "Epoch 41/50\n",
            "568/568 [==============================] - 430s 756ms/step - loss: 20.8229 - yolo_layer_6_loss: 1.7400 - yolo_layer_7_loss: 4.6531 - yolo_layer_8_loss: 8.3508 - val_loss: 24.9870 - val_yolo_layer_6_loss: 2.3401 - val_yolo_layer_7_loss: 6.2245 - val_yolo_layer_8_loss: 10.3434\n",
            "Epoch 42/50\n",
            "568/568 [==============================] - 430s 756ms/step - loss: 20.6757 - yolo_layer_6_loss: 1.6243 - yolo_layer_7_loss: 4.6187 - yolo_layer_8_loss: 8.3536 - val_loss: 25.0640 - val_yolo_layer_6_loss: 2.3214 - val_yolo_layer_7_loss: 6.6260 - val_yolo_layer_8_loss: 10.0376\n",
            "Epoch 43/50\n",
            "568/568 [==============================] - 428s 754ms/step - loss: 20.6495 - yolo_layer_6_loss: 1.5839 - yolo_layer_7_loss: 4.3106 - yolo_layer_8_loss: 8.6759 - val_loss: 24.9447 - val_yolo_layer_6_loss: 2.3096 - val_yolo_layer_7_loss: 6.3096 - val_yolo_layer_8_loss: 10.2463\n",
            "Epoch 44/50\n",
            "568/568 [==============================] - 425s 747ms/step - loss: 20.6059 - yolo_layer_6_loss: 1.9678 - yolo_layer_7_loss: 4.3890 - yolo_layer_8_loss: 8.1700 - val_loss: 25.0676 - val_yolo_layer_6_loss: 2.2474 - val_yolo_layer_7_loss: 6.3159 - val_yolo_layer_8_loss: 10.4253\n",
            "Epoch 45/50\n",
            "568/568 [==============================] - 432s 760ms/step - loss: 20.5347 - yolo_layer_6_loss: 1.6778 - yolo_layer_7_loss: 4.4093 - yolo_layer_8_loss: 8.3684 - val_loss: 24.7793 - val_yolo_layer_6_loss: 2.0809 - val_yolo_layer_7_loss: 5.9721 - val_yolo_layer_8_loss: 10.6473\n",
            "Epoch 46/50\n",
            "568/568 [==============================] - 441s 776ms/step - loss: 20.8337 - yolo_layer_6_loss: 1.7068 - yolo_layer_7_loss: 4.5429 - yolo_layer_8_loss: 8.5049 - val_loss: 24.6019 - val_yolo_layer_6_loss: 2.2571 - val_yolo_layer_7_loss: 5.9187 - val_yolo_layer_8_loss: 10.3471\n",
            "Epoch 47/50\n",
            "568/568 [==============================] - 449s 789ms/step - loss: 21.2156 - yolo_layer_6_loss: 1.9813 - yolo_layer_7_loss: 4.7136 - yolo_layer_8_loss: 8.4416 - val_loss: 25.1363 - val_yolo_layer_6_loss: 2.3879 - val_yolo_layer_7_loss: 6.4181 - val_yolo_layer_8_loss: 10.2512\n",
            "Epoch 48/50\n",
            "568/568 [==============================] - 429s 754ms/step - loss: 20.4221 - yolo_layer_6_loss: 1.7294 - yolo_layer_7_loss: 4.4026 - yolo_layer_8_loss: 8.2110 - val_loss: 25.8855 - val_yolo_layer_6_loss: 2.8347 - val_yolo_layer_7_loss: 6.7190 - val_yolo_layer_8_loss: 10.2527\n",
            "Epoch 49/50\n",
            "568/568 [==============================] - 431s 757ms/step - loss: 20.4189 - yolo_layer_6_loss: 1.6133 - yolo_layer_7_loss: 4.3039 - yolo_layer_8_loss: 8.4226 - val_loss: 25.1341 - val_yolo_layer_6_loss: 2.3806 - val_yolo_layer_7_loss: 6.2373 - val_yolo_layer_8_loss: 10.4372\n",
            "Epoch 50/50\n",
            "568/568 [==============================] - 458s 804ms/step - loss: 20.8070 - yolo_layer_6_loss: 1.8277 - yolo_layer_7_loss: 4.6716 - yolo_layer_8_loss: 8.2286 - val_loss: 24.7680 - val_yolo_layer_6_loss: 2.1950 - val_yolo_layer_7_loss: 6.1346 - val_yolo_layer_8_loss: 10.3594\n"
          ],
          "name": "stdout"
        }
      ]
    },
    {
      "cell_type": "code",
      "metadata": {
        "id": "lI2kVT_17j8R"
      },
      "source": [
        ""
      ],
      "execution_count": null,
      "outputs": []
    }
  ]
}